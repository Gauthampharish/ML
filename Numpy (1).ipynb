{
 "cells": [
  {
   "cell_type": "code",
   "execution_count": 1,
   "id": "71214692",
   "metadata": {},
   "outputs": [
    {
     "name": "stdout",
     "output_type": "stream",
     "text": [
      "welcome\n"
     ]
    }
   ],
   "source": [
    "print(\"welcome\")"
   ]
  },
  {
   "cell_type": "code",
   "execution_count": 2,
   "id": "3e3c37ca",
   "metadata": {},
   "outputs": [],
   "source": [
    "import numpy as np"
   ]
  },
  {
   "cell_type": "code",
   "execution_count": 3,
   "id": "d6ac5776",
   "metadata": {},
   "outputs": [
    {
     "data": {
      "text/plain": [
       "[1, 2, 3]"
      ]
     },
     "execution_count": 3,
     "metadata": {},
     "output_type": "execute_result"
    }
   ],
   "source": [
    "list = [1,2,3]\n",
    "list"
   ]
  },
  {
   "cell_type": "code",
   "execution_count": 5,
   "id": "5ed5f64c",
   "metadata": {},
   "outputs": [
    {
     "data": {
      "text/plain": [
       "array([1, 2, 3])"
      ]
     },
     "execution_count": 5,
     "metadata": {},
     "output_type": "execute_result"
    }
   ],
   "source": [
    "np.array(list)"
   ]
  },
  {
   "cell_type": "code",
   "execution_count": 6,
   "id": "f21e2285",
   "metadata": {},
   "outputs": [
    {
     "data": {
      "text/plain": [
       "[[1, 2, 3], [4, 5, 6], [7, 8, 9]]"
      ]
     },
     "execution_count": 6,
     "metadata": {},
     "output_type": "execute_result"
    }
   ],
   "source": [
    "matrix = [[1,2,3],[4,5,6],[7,8,9]]\n",
    "matrix"
   ]
  },
  {
   "cell_type": "code",
   "execution_count": 7,
   "id": "a23803de",
   "metadata": {},
   "outputs": [
    {
     "data": {
      "text/plain": [
       "array([[1, 2, 3],\n",
       "       [4, 5, 6],\n",
       "       [7, 8, 9]])"
      ]
     },
     "execution_count": 7,
     "metadata": {},
     "output_type": "execute_result"
    }
   ],
   "source": [
    "np.array(matrix)"
   ]
  },
  {
   "cell_type": "code",
   "execution_count": 9,
   "id": "9126d9cc",
   "metadata": {},
   "outputs": [
    {
     "data": {
      "text/plain": [
       "array([0, 1, 2, 3, 4, 5, 6, 7, 8, 9])"
      ]
     },
     "execution_count": 9,
     "metadata": {},
     "output_type": "execute_result"
    }
   ],
   "source": [
    "np.arange(0,10)"
   ]
  },
  {
   "cell_type": "code",
   "execution_count": 10,
   "id": "915cd5f0",
   "metadata": {},
   "outputs": [
    {
     "data": {
      "text/plain": [
       "array([0, 4, 8])"
      ]
     },
     "execution_count": 10,
     "metadata": {},
     "output_type": "execute_result"
    }
   ],
   "source": [
    "np.arange(0,10,4)"
   ]
  },
  {
   "cell_type": "code",
   "execution_count": 11,
   "id": "c99bad6b",
   "metadata": {},
   "outputs": [
    {
     "data": {
      "text/plain": [
       "array([100, 107, 114, 121, 128, 135, 142, 149])"
      ]
     },
     "execution_count": 11,
     "metadata": {},
     "output_type": "execute_result"
    }
   ],
   "source": [
    "np.arange(100,150,7)"
   ]
  },
  {
   "cell_type": "code",
   "execution_count": 12,
   "id": "af844995",
   "metadata": {},
   "outputs": [
    {
     "data": {
      "text/plain": [
       "array([100, 105, 110, 115, 120, 125, 130, 135, 140, 145])"
      ]
     },
     "execution_count": 12,
     "metadata": {},
     "output_type": "execute_result"
    }
   ],
   "source": [
    "np.arange(100,150,5)"
   ]
  },
  {
   "cell_type": "code",
   "execution_count": 13,
   "id": "3e35b6ca",
   "metadata": {},
   "outputs": [
    {
     "data": {
      "text/plain": [
       "array([0., 0., 0., 0., 0.])"
      ]
     },
     "execution_count": 13,
     "metadata": {},
     "output_type": "execute_result"
    }
   ],
   "source": [
    "np.zeros(5)"
   ]
  },
  {
   "cell_type": "code",
   "execution_count": 15,
   "id": "a8d17d88",
   "metadata": {},
   "outputs": [
    {
     "data": {
      "text/plain": [
       "array([[0., 0., 0., 0., 0.],\n",
       "       [0., 0., 0., 0., 0.],\n",
       "       [0., 0., 0., 0., 0.],\n",
       "       [0., 0., 0., 0., 0.],\n",
       "       [0., 0., 0., 0., 0.]])"
      ]
     },
     "execution_count": 15,
     "metadata": {},
     "output_type": "execute_result"
    }
   ],
   "source": [
    "np.zeros((5,5))"
   ]
  },
  {
   "cell_type": "code",
   "execution_count": 16,
   "id": "f56854cb",
   "metadata": {},
   "outputs": [
    {
     "data": {
      "text/plain": [
       "array([1., 1., 1., 1., 1.])"
      ]
     },
     "execution_count": 16,
     "metadata": {},
     "output_type": "execute_result"
    }
   ],
   "source": [
    "np.ones(5)"
   ]
  },
  {
   "cell_type": "code",
   "execution_count": 17,
   "id": "a952c9c2",
   "metadata": {},
   "outputs": [
    {
     "data": {
      "text/plain": [
       "array([ 0. ,  2.5,  5. ,  7.5, 10. ])"
      ]
     },
     "execution_count": 17,
     "metadata": {},
     "output_type": "execute_result"
    }
   ],
   "source": [
    "np.linspace(0,10,5)"
   ]
  },
  {
   "cell_type": "code",
   "execution_count": 18,
   "id": "182f7cfc",
   "metadata": {},
   "outputs": [
    {
     "data": {
      "text/plain": [
       "array([ 10. ,  32.5,  55. ,  77.5, 100. ])"
      ]
     },
     "execution_count": 18,
     "metadata": {},
     "output_type": "execute_result"
    }
   ],
   "source": [
    "np.linspace(10,100,5)"
   ]
  },
  {
   "cell_type": "code",
   "execution_count": 19,
   "id": "65c62f4e",
   "metadata": {},
   "outputs": [
    {
     "data": {
      "text/plain": [
       "array([1000.        , 1041.66666667, 1083.33333333, 1125.        ,\n",
       "       1166.66666667, 1208.33333333, 1250.        , 1291.66666667,\n",
       "       1333.33333333, 1375.        , 1416.66666667, 1458.33333333,\n",
       "       1500.        , 1541.66666667, 1583.33333333, 1625.        ,\n",
       "       1666.66666667, 1708.33333333, 1750.        , 1791.66666667,\n",
       "       1833.33333333, 1875.        , 1916.66666667, 1958.33333333,\n",
       "       2000.        ])"
      ]
     },
     "execution_count": 19,
     "metadata": {},
     "output_type": "execute_result"
    }
   ],
   "source": [
    "np.linspace(1000,2000,25)"
   ]
  },
  {
   "cell_type": "code",
   "execution_count": 20,
   "id": "4662963c",
   "metadata": {},
   "outputs": [
    {
     "data": {
      "text/plain": [
       "array([1.        , 1.02040816, 1.04081633, 1.06122449, 1.08163265,\n",
       "       1.10204082, 1.12244898, 1.14285714, 1.16326531, 1.18367347,\n",
       "       1.20408163, 1.2244898 , 1.24489796, 1.26530612, 1.28571429,\n",
       "       1.30612245, 1.32653061, 1.34693878, 1.36734694, 1.3877551 ,\n",
       "       1.40816327, 1.42857143, 1.44897959, 1.46938776, 1.48979592,\n",
       "       1.51020408, 1.53061224, 1.55102041, 1.57142857, 1.59183673,\n",
       "       1.6122449 , 1.63265306, 1.65306122, 1.67346939, 1.69387755,\n",
       "       1.71428571, 1.73469388, 1.75510204, 1.7755102 , 1.79591837,\n",
       "       1.81632653, 1.83673469, 1.85714286, 1.87755102, 1.89795918,\n",
       "       1.91836735, 1.93877551, 1.95918367, 1.97959184, 2.        ])"
      ]
     },
     "execution_count": 20,
     "metadata": {},
     "output_type": "execute_result"
    }
   ],
   "source": [
    "np.linspace(1,2,50)"
   ]
  },
  {
   "cell_type": "code",
   "execution_count": 21,
   "id": "d7822230",
   "metadata": {},
   "outputs": [
    {
     "data": {
      "text/plain": [
       "array([[1., 0., 0., 0.],\n",
       "       [0., 1., 0., 0.],\n",
       "       [0., 0., 1., 0.],\n",
       "       [0., 0., 0., 1.]])"
      ]
     },
     "execution_count": 21,
     "metadata": {},
     "output_type": "execute_result"
    }
   ],
   "source": [
    "np.eye(4)"
   ]
  },
  {
   "cell_type": "code",
   "execution_count": 22,
   "id": "0bc4f6fc",
   "metadata": {},
   "outputs": [
    {
     "data": {
      "text/plain": [
       "array([0.35214509, 0.75677278, 0.44569666, 0.28855123, 0.83681914])"
      ]
     },
     "execution_count": 22,
     "metadata": {},
     "output_type": "execute_result"
    }
   ],
   "source": [
    "np.random.rand(5)"
   ]
  },
  {
   "cell_type": "code",
   "execution_count": 24,
   "id": "bcfb9c42",
   "metadata": {},
   "outputs": [
    {
     "data": {
      "text/plain": [
       "array([[[0.75773796, 0.67472445, 0.2643653 , 0.95736351, 0.65651528,\n",
       "         0.77814771, 0.39460923, 0.34964436, 0.89566422, 0.67122779],\n",
       "        [0.89539568, 0.63330142, 0.50671391, 0.96822772, 0.79347123,\n",
       "         0.87510792, 0.73068153, 0.47505364, 0.17654237, 0.1485157 ],\n",
       "        [0.71652387, 0.50061764, 0.85776532, 0.24452402, 0.32850693,\n",
       "         0.37124338, 0.15796059, 0.02227133, 0.88647539, 0.25596077],\n",
       "        [0.49948698, 0.05904519, 0.68869997, 0.15296415, 0.51268574,\n",
       "         0.89522587, 0.15439586, 0.88869008, 0.65325786, 0.20000379],\n",
       "        [0.5359306 , 0.20345605, 0.50569964, 0.38168659, 0.40761156,\n",
       "         0.61377597, 0.45723381, 0.74700451, 0.02922948, 0.52352793],\n",
       "        [0.31929034, 0.35758369, 0.26860233, 0.74074239, 0.3332274 ,\n",
       "         0.97998518, 0.45066375, 0.38940634, 0.16131425, 0.7795914 ],\n",
       "        [0.55463722, 0.50969036, 0.6249577 , 0.61269867, 0.70329182,\n",
       "         0.26687183, 0.52505564, 0.96899551, 0.46059912, 0.40254339],\n",
       "        [0.9786277 , 0.43269694, 0.58297354, 0.80159267, 0.10241126,\n",
       "         0.23222063, 0.33012553, 0.9331755 , 0.32982569, 0.70465573],\n",
       "        [0.237311  , 0.53935864, 0.59461649, 0.19597444, 0.62784533,\n",
       "         0.69431811, 0.48628835, 0.82223371, 0.37308515, 0.87754432],\n",
       "        [0.69071035, 0.9902853 , 0.62512155, 0.33923709, 0.37818736,\n",
       "         0.20227903, 0.06898263, 0.67469875, 0.48535544, 0.36536726]]])"
      ]
     },
     "execution_count": 24,
     "metadata": {},
     "output_type": "execute_result"
    }
   ],
   "source": [
    "np.random.rand(1,10,10)"
   ]
  },
  {
   "cell_type": "code",
   "execution_count": 25,
   "id": "d2875f56",
   "metadata": {},
   "outputs": [
    {
     "data": {
      "text/plain": [
       "array([[0.18883658, 0.21391872, 0.20224966, 0.80536318, 0.1014906 ],\n",
       "       [0.65544932, 0.30516404, 0.15325974, 0.52517754, 0.1714172 ],\n",
       "       [0.94258881, 0.74385496, 0.81572366, 0.85855794, 0.80722333],\n",
       "       [0.29900804, 0.2444122 , 0.33016137, 0.00232013, 0.35800548],\n",
       "       [0.70932089, 0.84803109, 0.96059776, 0.96418697, 0.88434586]])"
      ]
     },
     "execution_count": 25,
     "metadata": {},
     "output_type": "execute_result"
    }
   ],
   "source": [
    "np.random.rand(5,5)"
   ]
  },
  {
   "cell_type": "code",
   "execution_count": 26,
   "id": "45b4700f",
   "metadata": {},
   "outputs": [
    {
     "data": {
      "text/plain": [
       "array([-0.79814971, -0.39074491, -0.03220776, -1.67690647, -0.00592398])"
      ]
     },
     "execution_count": 26,
     "metadata": {},
     "output_type": "execute_result"
    }
   ],
   "source": [
    "np.random.randn(5)"
   ]
  },
  {
   "cell_type": "code",
   "execution_count": 27,
   "id": "2ff00fe2",
   "metadata": {},
   "outputs": [
    {
     "data": {
      "text/plain": [
       "4"
      ]
     },
     "execution_count": 27,
     "metadata": {},
     "output_type": "execute_result"
    }
   ],
   "source": [
    "np.random.randint(3,6)"
   ]
  },
  {
   "cell_type": "code",
   "execution_count": 28,
   "id": "13b9c9c1",
   "metadata": {},
   "outputs": [
    {
     "data": {
      "text/plain": [
       "array([5, 2, 2, 2, 7])"
      ]
     },
     "execution_count": 28,
     "metadata": {},
     "output_type": "execute_result"
    }
   ],
   "source": [
    "np.random.randint(1,10,5)"
   ]
  },
  {
   "cell_type": "code",
   "execution_count": 29,
   "id": "099d4242",
   "metadata": {},
   "outputs": [
    {
     "data": {
      "text/plain": [
       "21"
      ]
     },
     "execution_count": 29,
     "metadata": {},
     "output_type": "execute_result"
    }
   ],
   "source": [
    "np.random.randint(10,25)"
   ]
  },
  {
   "cell_type": "code",
   "execution_count": 31,
   "id": "d0bd7dce",
   "metadata": {},
   "outputs": [
    {
     "data": {
      "text/plain": [
       "array([49, 17, 34, 19, 41,  3, 39, 11, 15, 31, 18, 10, 41,  5,  4])"
      ]
     },
     "execution_count": 31,
     "metadata": {},
     "output_type": "execute_result"
    }
   ],
   "source": [
    "arr = np.random.randint(0,50,15)\n",
    "arr"
   ]
  },
  {
   "cell_type": "code",
   "execution_count": 32,
   "id": "b3cd06c8",
   "metadata": {},
   "outputs": [
    {
     "data": {
      "text/plain": [
       "(15,)"
      ]
     },
     "execution_count": 32,
     "metadata": {},
     "output_type": "execute_result"
    }
   ],
   "source": [
    "arr.shape"
   ]
  },
  {
   "cell_type": "code",
   "execution_count": 35,
   "id": "d82a2a92",
   "metadata": {},
   "outputs": [
    {
     "data": {
      "text/plain": [
       "array([[49, 17, 34, 19, 41],\n",
       "       [ 3, 39, 11, 15, 31],\n",
       "       [18, 10, 41,  5,  4]])"
      ]
     },
     "execution_count": 35,
     "metadata": {},
     "output_type": "execute_result"
    }
   ],
   "source": [
    "arr.reshape(3,5)"
   ]
  },
  {
   "cell_type": "code",
   "execution_count": 34,
   "id": "f0232d8c",
   "metadata": {},
   "outputs": [
    {
     "data": {
      "text/plain": [
       "array([[49, 17, 34],\n",
       "       [19, 41,  3],\n",
       "       [39, 11, 15],\n",
       "       [31, 18, 10],\n",
       "       [41,  5,  4]])"
      ]
     },
     "execution_count": 34,
     "metadata": {},
     "output_type": "execute_result"
    }
   ],
   "source": [
    "arr.reshape(5,3)"
   ]
  },
  {
   "cell_type": "markdown",
   "id": "b939568c",
   "metadata": {},
   "source": [
    "20 Elements between 200 and 500. shape of the array. reshape the array."
   ]
  },
  {
   "cell_type": "code",
   "execution_count": 38,
   "id": "6af160a6",
   "metadata": {},
   "outputs": [
    {
     "data": {
      "text/plain": [
       "array([431, 269, 356, 489, 389, 302, 262, 239, 326, 452, 362, 343, 239,\n",
       "       218, 232, 420, 340, 244, 364, 455])"
      ]
     },
     "execution_count": 38,
     "metadata": {},
     "output_type": "execute_result"
    }
   ],
   "source": [
    "arr1 = np.random.randint(200,500,20)\n",
    "arr1"
   ]
  },
  {
   "cell_type": "code",
   "execution_count": 39,
   "id": "7f743d8b",
   "metadata": {},
   "outputs": [
    {
     "data": {
      "text/plain": [
       "(20,)"
      ]
     },
     "execution_count": 39,
     "metadata": {},
     "output_type": "execute_result"
    }
   ],
   "source": [
    "arr1.shape"
   ]
  },
  {
   "cell_type": "code",
   "execution_count": 40,
   "id": "670af3ab",
   "metadata": {},
   "outputs": [
    {
     "data": {
      "text/plain": [
       "array([[431, 269, 356, 489, 389, 302, 262, 239, 326, 452],\n",
       "       [362, 343, 239, 218, 232, 420, 340, 244, 364, 455]])"
      ]
     },
     "execution_count": 40,
     "metadata": {},
     "output_type": "execute_result"
    }
   ],
   "source": [
    "arr1.reshape(2,10)"
   ]
  },
  {
   "cell_type": "code",
   "execution_count": 41,
   "id": "6f0c7e14",
   "metadata": {},
   "outputs": [
    {
     "data": {
      "text/plain": [
       "array([[431, 269, 356, 489, 389, 302, 262, 239, 326, 452, 362, 343, 239,\n",
       "        218, 232, 420, 340, 244, 364, 455]])"
      ]
     },
     "execution_count": 41,
     "metadata": {},
     "output_type": "execute_result"
    }
   ],
   "source": [
    "arr1.reshape(1,20)"
   ]
  },
  {
   "cell_type": "code",
   "execution_count": 42,
   "id": "6de4145b",
   "metadata": {},
   "outputs": [
    {
     "data": {
      "text/plain": [
       "array([[431, 269, 356, 489, 389],\n",
       "       [302, 262, 239, 326, 452],\n",
       "       [362, 343, 239, 218, 232],\n",
       "       [420, 340, 244, 364, 455]])"
      ]
     },
     "execution_count": 42,
     "metadata": {},
     "output_type": "execute_result"
    }
   ],
   "source": [
    "arr1.reshape(4,5)"
   ]
  },
  {
   "cell_type": "code",
   "execution_count": 43,
   "id": "a6894f8f",
   "metadata": {},
   "outputs": [
    {
     "data": {
      "text/plain": [
       "array([[431, 269, 356, 489],\n",
       "       [389, 302, 262, 239],\n",
       "       [326, 452, 362, 343],\n",
       "       [239, 218, 232, 420],\n",
       "       [340, 244, 364, 455]])"
      ]
     },
     "execution_count": 43,
     "metadata": {},
     "output_type": "execute_result"
    }
   ],
   "source": [
    "arr1.reshape(5,4)"
   ]
  },
  {
   "cell_type": "code",
   "execution_count": 44,
   "id": "d3ce5e35",
   "metadata": {},
   "outputs": [
    {
     "data": {
      "text/plain": [
       "array([[431],\n",
       "       [269],\n",
       "       [356],\n",
       "       [489],\n",
       "       [389],\n",
       "       [302],\n",
       "       [262],\n",
       "       [239],\n",
       "       [326],\n",
       "       [452],\n",
       "       [362],\n",
       "       [343],\n",
       "       [239],\n",
       "       [218],\n",
       "       [232],\n",
       "       [420],\n",
       "       [340],\n",
       "       [244],\n",
       "       [364],\n",
       "       [455]])"
      ]
     },
     "execution_count": 44,
     "metadata": {},
     "output_type": "execute_result"
    }
   ],
   "source": [
    "arr1.reshape(20,1)"
   ]
  },
  {
   "cell_type": "code",
   "execution_count": 45,
   "id": "bb40f5ec",
   "metadata": {},
   "outputs": [
    {
     "data": {
      "text/plain": [
       "array([[431, 269],\n",
       "       [356, 489],\n",
       "       [389, 302],\n",
       "       [262, 239],\n",
       "       [326, 452],\n",
       "       [362, 343],\n",
       "       [239, 218],\n",
       "       [232, 420],\n",
       "       [340, 244],\n",
       "       [364, 455]])"
      ]
     },
     "execution_count": 45,
     "metadata": {},
     "output_type": "execute_result"
    }
   ],
   "source": [
    "arr1.reshape(10,2)"
   ]
  },
  {
   "cell_type": "code",
   "execution_count": 46,
   "id": "5e0317ad",
   "metadata": {},
   "outputs": [
    {
     "data": {
      "text/plain": [
       "dtype('int32')"
      ]
     },
     "execution_count": 46,
     "metadata": {},
     "output_type": "execute_result"
    }
   ],
   "source": [
    "arr1.dtype"
   ]
  },
  {
   "cell_type": "code",
   "execution_count": 48,
   "id": "e792741f",
   "metadata": {},
   "outputs": [
    {
     "data": {
      "text/plain": [
       "array([455, 364, 244, 340, 420, 232, 218, 239, 343, 362, 452, 326, 239,\n",
       "       262, 302, 389, 489, 356, 269, 431])"
      ]
     },
     "execution_count": 48,
     "metadata": {},
     "output_type": "execute_result"
    }
   ],
   "source": [
    "arr1[::-1]"
   ]
  },
  {
   "cell_type": "code",
   "execution_count": null,
   "id": "f7e0917b",
   "metadata": {},
   "outputs": [],
   "source": []
  }
 ],
 "metadata": {
  "kernelspec": {
   "display_name": "Python 3 (ipykernel)",
   "language": "python",
   "name": "python3"
  },
  "language_info": {
   "codemirror_mode": {
    "name": "ipython",
    "version": 3
   },
   "file_extension": ".py",
   "mimetype": "text/x-python",
   "name": "python",
   "nbconvert_exporter": "python",
   "pygments_lexer": "ipython3",
   "version": "3.9.12"
  }
 },
 "nbformat": 4,
 "nbformat_minor": 5
}
